{
 "cells": [
  {
   "cell_type": "code",
   "execution_count": 17,
   "metadata": {},
   "outputs": [
    {
     "name": "stdout",
     "output_type": "stream",
     "text": [
      "theta values  [ 17.39632983 -16.33716815 -24.37862612]\n"
     ]
    },
    {
     "data": {
      "image/png": "[encoded data removed]",
      "text/plain": [
       "<Figure size 432x288 with 1 Axes>"
      ]
     },
     "metadata": {
      "needs_background": "light"
     },
     "output_type": "display_data"
    }
   ],
   "source": [
    "import numpy as np\n",
    "\n",
    "import math\n",
    "import random\n",
    "import matplotlib.pyplot as plt\n",
    "from sklearn import datasets as skdata\n",
    "\n",
    "theta=[]\n",
    "#calculate sigmoid func\n",
    "def sigmoid(theta, x):\n",
    "    return (1/(1+np.exp(-np.dot(x,theta))))\n",
    "    \n",
    "#calculate gradient\n",
    "def log_gradient(theta, x, y):\n",
    "    first_calc = sigmoid(theta, x) -y\n",
    "    final_calc = first_calc.T.dot(x)\n",
    "    return final_calc\n",
    "\n",
    "              \n",
    "\n",
    "def addbias(data):\n",
    "    return np.hstack([data,np.ones([data.shape[0],1])])\n",
    "\n",
    "def cost_func(theta,x,y):\n",
    "    \n",
    "    return np.mean(-y*np.log(sigmoid(theta,x))-(1-y)*np.log(1 - sigmoid(theta,x)))\n",
    "    \n",
    "\n",
    "def standardize(data):\n",
    "    mean= np.mean(data)\n",
    "    std = np.std(data)\n",
    "    xStd = (data-mean)/std\n",
    "    return xStd\n",
    "\n",
    "def initalTheta():\n",
    "    for i in range(3):\n",
    "        theta.append(random.uniform(-1,1))\n",
    "    return theta\n",
    "\n",
    "def main():\n",
    "           \n",
    "    \n",
    "    iris=skdata.load_iris()\n",
    "    X=iris.data[:, :2]\n",
    "    Y=(iris.target!=0)*1\n",
    "    X=standardize(X)\n",
    "    xt=X.transpose()\n",
    "    X=addbias(X)\n",
    "    \n",
    "    theta=initalTheta()\n",
    "    theta=np.array(theta)\n",
    "    \n",
    "    sig = sigmoid(theta,X)\n",
    "    \n",
    "    pr=1\n",
    "    \n",
    "    itr = 0\n",
    "    lr = 0.01\n",
    "    N = len(X)\n",
    "    lossOfData0 = 1\n",
    "    while(itr<10000 and pr>2**-23):       \n",
    "        lossOfData = cost_func(theta,X,Y)\n",
    "        pr=np.abs(lossOfData0-lossOfData)\n",
    "        theta = theta - (lr * log_gradient(theta, X, Y))\n",
    "        itr += 1\n",
    "#plot graph\n",
    "\n",
    "    print(\"theta values \",theta) \n",
    "    my_x = np.arange(-2, 2, 0.01)\n",
    "   \n",
    "    my_m = -1 * theta[0] / theta[1]\n",
    "    my_b = -1 * theta[2] / theta[1]\n",
    "   \n",
    "    my_y = my_m * my_x + my_b\n",
    "    plt.scatter(X[Y == 0, 0], X[Y == 0, 1], color='red')\n",
    "    plt.scatter(X[Y == 1, 0], X[Y == 1, 1], color='blue')\n",
    "    plt.plot(my_x, my_y)\n",
    "    plt.show()\n",
    "if __name__ == '__main__':\n",
    "    main()"
   ]
  },
  {
   "cell_type": "code",
   "execution_count": 15,
   "metadata": {},
   "outputs": [
    {
     "name": "stderr",
     "output_type": "stream",
     "text": [
      "/Users/harshpathak/anaconda3/lib/python3.7/site-packages/sklearn/linear_model/logistic.py:433: FutureWarning: Default solver will be changed to 'lbfgs' in 0.22. Specify a solver to silence this warning.\n"
     ]
    },
    {
     "data": {
      "image/png": "[encoded data removed]",
      "text/plain": [
       "<Figure size 432x288 with 1 Axes>"
      ]
     },
     "metadata": {
      "needs_background": "light"
     },
     "output_type": "display_data"
    }
   ],
   "source": [
    "#verification \n",
    "from sklearn import datasets as skdata\n",
    "import numpy as np\n",
    "import matplotlib.pyplot as plt\n",
    "from sklearn.linear_model import LogisticRegression\n",
    "\n",
    "def standardize(data):\n",
    "    mean= np.mean(data)\n",
    "    std = np.std(data)\n",
    "    xStd = (data-mean)/std\n",
    "    return xStd\n",
    "\n",
    "iris=skdata.load_iris()\n",
    "X=iris.data[:, :2]\n",
    "Y=(iris.target!=0)*1\n",
    "lgr=LogisticRegression()\n",
    "a=lgr.fit(X,Y)\n",
    "my_x = np.arange(-2, 10, 0.01)\n",
    "   \n",
    "my_m = -1 * a.coef_[0,0]/a.coef_[0,1]\n",
    "my_b = -1 * a.intercept_[0]/a.coef_[0,1]\n",
    "my_y = my_m * my_x + my_b\n",
    "plt.scatter(X[Y == 0, 0], X[Y == 0, 1], color='red')\n",
    "plt.scatter(X[Y == 1, 0], X[Y == 1, 1], color='blue')\n",
    "plt.plot(my_x, my_y)\n",
    "plt.show()"
   ]
  },
  {
   "cell_type": "code",
   "execution_count": null,
   "metadata": {},
   "outputs": [],
   "source": []
  }
 ],
 "metadata": {
  "kernelspec": {
   "display_name": "Python 3",
   "language": "python",
   "name": "python3"
  },
  "language_info": {
   "codemirror_mode": {
    "name": "ipython",
    "version": 3
   },
   "file_extension": ".py",
   "mimetype": "text/x-python",
   "name": "python",
   "nbconvert_exporter": "python",
   "pygments_lexer": "ipython3",
   "version": "3.7.1"
  }
 },
 "nbformat": 4,
 "nbformat_minor": 2
}
